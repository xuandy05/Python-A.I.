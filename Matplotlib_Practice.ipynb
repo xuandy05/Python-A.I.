{
  "nbformat": 4,
  "nbformat_minor": 0,
  "metadata": {
    "colab": {
      "name": "Matplotlib Practice",
      "version": "0.3.2",
      "provenance": [],
      "collapsed_sections": [],
      "include_colab_link": true
    },
    "kernelspec": {
      "name": "python3",
      "display_name": "Python 3"
    }
  },
  "cells": [
    {
      "cell_type": "markdown",
      "metadata": {
        "id": "view-in-github",
        "colab_type": "text"
      },
      "source": [
        "<a href=\"https://colab.research.google.com/github/xuandy05/Python-A.I./blob/master/Matplotlib_Practice.ipynb\" target=\"_parent\"><img src=\"https://colab.research.google.com/assets/colab-badge.svg\" alt=\"Open In Colab\"/></a>"
      ]
    },
    {
      "cell_type": "code",
      "metadata": {
        "id": "2EaUKPbrtH8O",
        "colab_type": "code",
        "colab": {}
      },
      "source": [
        "import matplotlib.pyplot as plt\n",
        "import numpy as np\n",
        "import pandas as pd"
      ],
      "execution_count": 0,
      "outputs": []
    },
    {
      "cell_type": "code",
      "metadata": {
        "id": "p4cy7KVy6qsE",
        "colab_type": "code",
        "outputId": "3f95152a-cdfb-43c1-8c27-2972b480cea5",
        "colab": {
          "base_uri": "https://localhost:8080/",
          "height": 51
        }
      },
      "source": [
        "x = range(-10,11)\n",
        "x = np.array(x)\n",
        "x"
      ],
      "execution_count": 0,
      "outputs": [
        {
          "output_type": "execute_result",
          "data": {
            "text/plain": [
              "array([-10,  -9,  -8,  -7,  -6,  -5,  -4,  -3,  -2,  -1,   0,   1,   2,\n",
              "         3,   4,   5,   6,   7,   8,   9,  10])"
            ]
          },
          "metadata": {
            "tags": []
          },
          "execution_count": 62
        }
      ]
    },
    {
      "cell_type": "markdown",
      "metadata": {
        "id": "6P0-gWIKu2H4",
        "colab_type": "text"
      },
      "source": [
        "***Line Graphs***<br>\n",
        "> Plot the equation y = x + 3for x = -10 to 10"
      ]
    },
    {
      "cell_type": "code",
      "metadata": {
        "id": "5U6Ig7cVtaOr",
        "colab_type": "code",
        "outputId": "7489c662-17a7-4730-de40-e2a36af84b3f",
        "colab": {
          "base_uri": "https://localhost:8080/",
          "height": 286
        }
      },
      "source": [
        "# Use plt.plot(x, y, color). color is a string like \"blue\". x, y, are both a list of values\n",
        "y = x + 3\n",
        "plt.plot(x, y, 'b--')"
      ],
      "execution_count": 0,
      "outputs": [
        {
          "output_type": "execute_result",
          "data": {
            "text/plain": [
              "[<matplotlib.lines.Line2D at 0x7f907148ab00>]"
            ]
          },
          "metadata": {
            "tags": []
          },
          "execution_count": 63
        },
        {
          "output_type": "display_data",
          "data": {
            "image/png": "[encoded data removed]",
            "text/plain": [
              "<Figure size 432x288 with 1 Axes>"
            ]
          },
          "metadata": {
            "tags": []
          }
        }
      ]
    },
    {
      "cell_type": "markdown",
      "metadata": {
        "id": "oD9EF2i37L34",
        "colab_type": "text"
      },
      "source": [
        "> Plot the equation y = 3*x^2 + x + 1"
      ]
    },
    {
      "cell_type": "code",
      "metadata": {
        "id": "_TJPl-K37Ygf",
        "colab_type": "code",
        "outputId": "8bc39de1-91c3-4415-9a44-d20c9f3ec518",
        "colab": {
          "base_uri": "https://localhost:8080/",
          "height": 286
        }
      },
      "source": [
        "y = 3*x**2 + x + 1\n",
        "plt.plot(x, y, 'g^')"
      ],
      "execution_count": 0,
      "outputs": [
        {
          "output_type": "execute_result",
          "data": {
            "text/plain": [
              "[<matplotlib.lines.Line2D at 0x7f90713f9668>]"
            ]
          },
          "metadata": {
            "tags": []
          },
          "execution_count": 64
        },
        {
          "output_type": "display_data",
          "data": {
            "image/png": "[encoded data removed]",
            "text/plain": [
              "<Figure size 432x288 with 1 Axes>"
            ]
          },
          "metadata": {
            "tags": []
          }
        }
      ]
    },
    {
      "cell_type": "markdown",
      "metadata": {
        "id": "8u0REIHmvIm5",
        "colab_type": "text"
      },
      "source": [
        "Usin the same range for x. plot y = x^3 - 21"
      ]
    },
    {
      "cell_type": "code",
      "metadata": {
        "id": "8IUorXxIt4qM",
        "colab_type": "code",
        "outputId": "51ffdda3-2abe-4ce3-c6b3-8489608f6d6a",
        "colab": {
          "base_uri": "https://localhost:8080/",
          "height": 286
        }
      },
      "source": [
        "y = x**3 - 21\n",
        "plt.plot(x, y, 'rs')"
      ],
      "execution_count": 0,
      "outputs": [
        {
          "output_type": "execute_result",
          "data": {
            "text/plain": [
              "[<matplotlib.lines.Line2D at 0x7f90713de630>]"
            ]
          },
          "metadata": {
            "tags": []
          },
          "execution_count": 65
        },
        {
          "output_type": "display_data",
          "data": {
            "image/png": "[encoded data removed]",
            "text/plain": [
              "<Figure size 432x288 with 1 Axes>"
            ]
          },
          "metadata": {
            "tags": []
          }
        }
      ]
    },
    {
      "cell_type": "markdown",
      "metadata": {
        "id": "KJ12bMj7v_nf",
        "colab_type": "text"
      },
      "source": [
        "***Scatter Plots***\n"
      ]
    },
    {
      "cell_type": "markdown",
      "metadata": {
        "id": "3O5dQcMf8MSY",
        "colab_type": "text"
      },
      "source": [
        "> Here is a Dataframe containing information about several people"
      ]
    },
    {
      "cell_type": "code",
      "metadata": {
        "id": "z8yr2Z6ZxXoq",
        "colab_type": "code",
        "outputId": "e0d41372-8def-4080-c531-f36bf57dfca1",
        "colab": {
          "base_uri": "https://localhost:8080/",
          "height": 332
        }
      },
      "source": [
        "people = [(\"Carl\",42,\"male\",72),\n",
        "          (\"Carla\",32,\"female\",60),\n",
        "          (\"Sam\",12,\"female\",65),\n",
        "          (\"Joshua\",21,\"male\",78),\n",
        "          (\"Ben\",2,\"male\",32),\n",
        "          (\"Andy\",5,\"male\",46),\n",
        "          (\"Mindy\",94,\"female\",58),\n",
        "          (\"Betty\",96,\"female\",64)\n",
        "         ]\n",
        "\n",
        "df = pd.DataFrame(people)\n",
        "df.columns = [\"name\", \"age\", \"gender\", \"height\"]\n",
        "df.hist()"
      ],
      "execution_count": 0,
      "outputs": [
        {
          "output_type": "execute_result",
          "data": {
            "text/plain": [
              "array([[<matplotlib.axes._subplots.AxesSubplot object at 0x7f90713916a0>,\n",
              "        <matplotlib.axes._subplots.AxesSubplot object at 0x7f9071346e10>]],\n",
              "      dtype=object)"
            ]
          },
          "metadata": {
            "tags": []
          },
          "execution_count": 66
        },
        {
          "output_type": "display_data",
          "data": {
            "image/png": "[encoded data removed]",
            "text/plain": [
              "<Figure size 432x288 with 2 Axes>"
            ]
          },
          "metadata": {
            "tags": []
          }
        }
      ]
    },
    {
      "cell_type": "markdown",
      "metadata": {
        "id": "4RKzK-t0x7VV",
        "colab_type": "text"
      },
      "source": [
        "Plot each person's age and height in a scatter plot. Age should be the x axis and height should be the y axis."
      ]
    },
    {
      "cell_type": "code",
      "metadata": {
        "id": "MS45ToCox5Cu",
        "colab_type": "code",
        "outputId": "1a95c6e2-abe5-41f6-c14b-9c04dc4c8dc5",
        "colab": {
          "base_uri": "https://localhost:8080/",
          "height": 286
        }
      },
      "source": [
        "#Use plt.scatter(x, y, c, marker) marker is a string defining what symbol is used to plot. \"o\" for circle, \"*\" for star.\n",
        "plt.scatter(df['age'], df['height'], c='red', marker='o')"
      ],
      "execution_count": 0,
      "outputs": [
        {
          "output_type": "execute_result",
          "data": {
            "text/plain": [
              "<matplotlib.collections.PathCollection at 0x7f907150c668>"
            ]
          },
          "metadata": {
            "tags": []
          },
          "execution_count": 67
        },
        {
          "output_type": "display_data",
          "data": {
            "image/png": "[encoded data removed]",
            "text/plain": [
              "<Figure size 432x288 with 1 Axes>"
            ]
          },
          "metadata": {
            "tags": []
          }
        }
      ]
    },
    {
      "cell_type": "markdown",
      "metadata": {
        "id": "t77BAw4C9i31",
        "colab_type": "text"
      },
      "source": [
        "> 1. Plot the females as a pink circle and males and blue stars. The axis are the same as before. <br>(Hint: use boolean indexing to seperate men and women).\n",
        "> 2. Add labels the axes. (\"Age\" for the x axis, \"Height(inches)\" for the y axis) <br>\n",
        "    (plt.xlabel, plt.ylabel)\n",
        "> 3. Create a legend, which labels each type of data (male and female) <br>\n",
        "    (plt.legend)"
      ]
    },
    {
      "cell_type": "code",
      "metadata": {
        "id": "HKnL0dI19iTz",
        "colab_type": "code",
        "outputId": "61aa4e1e-35f7-4aec-dbcf-4726da7705b6",
        "colab": {
          "base_uri": "https://localhost:8080/",
          "height": 300
        }
      },
      "source": [
        "males = df[df['gender'] == 'male']\n",
        "females = df[df['gender'] == 'female']\n",
        "plt.scatter(males['age'], males['height'], c='blue', marker='*', label='male')\n",
        "plt.scatter(females['age'], females['height'], c='pink', marker='o', label='female')\n",
        "plt.xlabel('Age')\n",
        "plt.ylabel('Height')\n",
        "plt.legend()"
      ],
      "execution_count": 0,
      "outputs": [
        {
          "output_type": "execute_result",
          "data": {
            "text/plain": [
              "<matplotlib.legend.Legend at 0x7f907192b860>"
            ]
          },
          "metadata": {
            "tags": []
          },
          "execution_count": 68
        },
        {
          "output_type": "display_data",
          "data": {
            "image/png": "[encoded data removed]",
            "text/plain": [
              "<Figure size 432x288 with 1 Axes>"
            ]
          },
          "metadata": {
            "tags": []
          }
        }
      ]
    },
    {
      "cell_type": "markdown",
      "metadata": {
        "id": "2XA0QO2-BrbX",
        "colab_type": "text"
      },
      "source": [
        "### Bonus\n",
        "**Subplots**<br>\n",
        ">plot all 3 of the previous plots using subplots."
      ]
    },
    {
      "cell_type": "code",
      "metadata": {
        "id": "1wKByP4TB2W_",
        "colab_type": "code",
        "outputId": "f4f096a5-8c69-47a7-dbb2-8fd7e4d0e480",
        "colab": {
          "base_uri": "https://localhost:8080/",
          "height": 286
        }
      },
      "source": [
        "# Use plt.subplots(x,y,plotnum) to plot previous plots\n",
        "plt.subplot(2, 2, 1)\n",
        "plt.scatter(df['age'], df['height'], c='red', marker='o')\n",
        "plt.subplot(2, 2, 2)\n",
        "plt.scatter(males['age'], males['height'], c='blue', marker='*')\n",
        "plt.subplot(2, 2, 3)\n",
        "plt.scatter(females['age'], females['height'], c='pink', marker='o')"
      ],
      "execution_count": 0,
      "outputs": [
        {
          "output_type": "execute_result",
          "data": {
            "text/plain": [
              "<matplotlib.collections.PathCollection at 0x7f9070e94898>"
            ]
          },
          "metadata": {
            "tags": []
          },
          "execution_count": 75
        },
        {
          "output_type": "display_data",
          "data": {
            "image/png": "[encoded data removed]",
            "text/plain": [
              "<Figure size 432x288 with 3 Axes>"
            ]
          },
          "metadata": {
            "tags": []
          }
        }
      ]
    }
  ]
}