{
  "nbformat": 4,
  "nbformat_minor": 0,
  "metadata": {
    "colab": {
      "name": "Image Classification",
      "version": "0.3.2",
      "provenance": [],
      "include_colab_link": true
    },
    "kernelspec": {
      "name": "python3",
      "display_name": "Python 3"
    }
  },
  "cells": [
    {
      "cell_type": "markdown",
      "metadata": {
        "id": "view-in-github",
        "colab_type": "text"
      },
      "source": [
        "<a href=\"https://colab.research.google.com/github/xuandy05/Python-A.I./blob/master/Image_Classification.ipynb\" target=\"_parent\"><img src=\"https://colab.research.google.com/assets/colab-badge.svg\" alt=\"Open In Colab\"/></a>"
      ]
    },
    {
      "cell_type": "code",
      "metadata": {
        "id": "qzjicCWD9DX1",
        "colab_type": "code",
        "colab": {}
      },
      "source": [
        "# TensorFlow and tf.keras\n",
        "import tensorflow as tf\n",
        "from tensorflow import keras\n",
        "\n",
        "import numpy as np\n",
        "import matplotlib.pyplot as plt"
      ],
      "execution_count": 0,
      "outputs": []
    },
    {
      "cell_type": "code",
      "metadata": {
        "id": "XFrYdNizB6Bq",
        "colab_type": "code",
        "outputId": "fa47eb04-bfca-4dff-a444-e656088771f9",
        "colab": {
          "base_uri": "https://localhost:8080/",
          "height": 51
        }
      },
      "source": [
        "#Download the dataset\n",
        "(x_train, y_train), (x_test, y_test) = tf.keras.datasets.mnist.load_data()"
      ],
      "execution_count": 0,
      "outputs": [
        {
          "output_type": "stream",
          "text": [
            "Downloading data from https://storage.googleapis.com/tensorflow/tf-keras-datasets/mnist.npz\n",
            "11493376/11490434 [==============================] - 0s 0us/step\n"
          ],
          "name": "stdout"
        }
      ]
    },
    {
      "cell_type": "markdown",
      "metadata": {
        "id": "GSqHv-COCo29",
        "colab_type": "text"
      },
      "source": [
        "**Exploring the Data** <br>\n",
        "What is the in the dataset? <br>\n",
        "What do these values means?"
      ]
    },
    {
      "cell_type": "code",
      "metadata": {
        "id": "PuwgWTkCCDlv",
        "colab_type": "code",
        "outputId": "895f4517-4de7-4e8e-c601-16ef998e7117",
        "colab": {
          "base_uri": "https://localhost:8080/",
          "height": 34
        }
      },
      "source": [
        "x_train.shape"
      ],
      "execution_count": 0,
      "outputs": [
        {
          "output_type": "execute_result",
          "data": {
            "text/plain": [
              "(60000, 28, 28)"
            ]
          },
          "metadata": {
            "tags": []
          },
          "execution_count": 3
        }
      ]
    },
    {
      "cell_type": "code",
      "metadata": {
        "id": "v9U8_EGpMdit",
        "colab_type": "code",
        "outputId": "4ec61077-2879-4d19-841a-82bcf20b3e5e",
        "colab": {
          "base_uri": "https://localhost:8080/",
          "height": 34
        }
      },
      "source": [
        "y_train"
      ],
      "execution_count": 0,
      "outputs": [
        {
          "output_type": "execute_result",
          "data": {
            "text/plain": [
              "array([5, 0, 4, ..., 5, 6, 8], dtype=uint8)"
            ]
          },
          "metadata": {
            "tags": []
          },
          "execution_count": 13
        }
      ]
    },
    {
      "cell_type": "code",
      "metadata": {
        "id": "tYvyl7V1MYw1",
        "colab_type": "code",
        "outputId": "a30e63cf-13da-4187-f05e-c51d123f4e02",
        "colab": {
          "base_uri": "https://localhost:8080/",
          "height": 198
        }
      },
      "source": [
        "plt.imshow(x_train[0])\n",
        "plt.colorbar()\n",
        "plt.grid(False)"
      ],
      "execution_count": 0,
      "outputs": [
        {
          "output_type": "error",
          "ename": "NameError",
          "evalue": "ignored",
          "traceback": [
            "\u001b[0;31m---------------------------------------------------------------------------\u001b[0m",
            "\u001b[0;31mNameError\u001b[0m                                 Traceback (most recent call last)",
            "\u001b[0;32m<ipython-input-1-27b3c5cf710f>\u001b[0m in \u001b[0;36m<module>\u001b[0;34m()\u001b[0m\n\u001b[0;32m----> 1\u001b[0;31m \u001b[0mplt\u001b[0m\u001b[0;34m.\u001b[0m\u001b[0mimshow\u001b[0m\u001b[0;34m(\u001b[0m\u001b[0mx_train\u001b[0m\u001b[0;34m[\u001b[0m\u001b[0;36m0\u001b[0m\u001b[0;34m]\u001b[0m\u001b[0;34m)\u001b[0m\u001b[0;34m\u001b[0m\u001b[0;34m\u001b[0m\u001b[0m\n\u001b[0m\u001b[1;32m      2\u001b[0m \u001b[0mplt\u001b[0m\u001b[0;34m.\u001b[0m\u001b[0mcolorbar\u001b[0m\u001b[0;34m(\u001b[0m\u001b[0;34m)\u001b[0m\u001b[0;34m\u001b[0m\u001b[0;34m\u001b[0m\u001b[0m\n\u001b[1;32m      3\u001b[0m \u001b[0mplt\u001b[0m\u001b[0;34m.\u001b[0m\u001b[0mgrid\u001b[0m\u001b[0;34m(\u001b[0m\u001b[0;32mFalse\u001b[0m\u001b[0;34m)\u001b[0m\u001b[0;34m\u001b[0m\u001b[0;34m\u001b[0m\u001b[0m\n",
            "\u001b[0;31mNameError\u001b[0m: name 'plt' is not defined"
          ]
        }
      ]
    },
    {
      "cell_type": "markdown",
      "metadata": {
        "id": "OUzDZ_TMFHbM",
        "colab_type": "text"
      },
      "source": [
        "**Data Processing** <br>\n",
        "Scale all of the values to be in the range 0 to 1"
      ]
    },
    {
      "cell_type": "code",
      "metadata": {
        "id": "8Tfn_48VFI_6",
        "colab_type": "code",
        "colab": {}
      },
      "source": [
        "x_train = x_train / 255"
      ],
      "execution_count": 0,
      "outputs": []
    },
    {
      "cell_type": "markdown",
      "metadata": {
        "id": "In5bSRpZGJuS",
        "colab_type": "text"
      },
      "source": [
        "**Build the Model**<br>\n",
        "The first layer should be a Flatten Layer with input_shape=(28,28)\n"
      ]
    },
    {
      "cell_type": "code",
      "metadata": {
        "id": "g8zJoHqsGM7n",
        "colab_type": "code",
        "outputId": "2c5ceaa9-c49a-4c6f-8ee0-4d7fdaf07185",
        "colab": {
          "base_uri": "https://localhost:8080/",
          "height": 173
        }
      },
      "source": [
        "from keras.models import Sequential\n",
        "model = Sequential()\n",
        "\n",
        "from keras.layers import Dense, Flatten\n",
        "model.add(Flatten(input_shape = (28,28)))\n",
        "model.add(Dense(16, activation = 'relu'))\n",
        "model.add(Dense(10, activation = 'softmax'))"
      ],
      "execution_count": 0,
      "outputs": [
        {
          "output_type": "stream",
          "text": [
            "Using TensorFlow backend.\n",
            "WARNING: Logging before flag parsing goes to stderr.\n",
            "W0729 03:59:32.429540 140573070563200 deprecation_wrapper.py:119] From /usr/local/lib/python3.6/dist-packages/keras/backend/tensorflow_backend.py:74: The name tf.get_default_graph is deprecated. Please use tf.compat.v1.get_default_graph instead.\n",
            "\n",
            "W0729 03:59:32.463998 140573070563200 deprecation_wrapper.py:119] From /usr/local/lib/python3.6/dist-packages/keras/backend/tensorflow_backend.py:517: The name tf.placeholder is deprecated. Please use tf.compat.v1.placeholder instead.\n",
            "\n",
            "W0729 03:59:32.490193 140573070563200 deprecation_wrapper.py:119] From /usr/local/lib/python3.6/dist-packages/keras/backend/tensorflow_backend.py:4138: The name tf.random_uniform is deprecated. Please use tf.random.uniform instead.\n",
            "\n"
          ],
          "name": "stderr"
        }
      ]
    },
    {
      "cell_type": "markdown",
      "metadata": {
        "id": "JLJSNpl9GSap",
        "colab_type": "text"
      },
      "source": [
        "**Compile the Model** <br>\n",
        "optimizer= 'adam'<br>\n",
        "loss='sparse_categorical_crossentropy'"
      ]
    },
    {
      "cell_type": "code",
      "metadata": {
        "id": "QwtBPB58GPzH",
        "colab_type": "code",
        "outputId": "ff2a30eb-6b08-4534-b385-602378bcde67",
        "colab": {
          "base_uri": "https://localhost:8080/",
          "height": 105
        }
      },
      "source": [
        "model.compile(optimizer = 'adam', loss='sparse_categorical_crossentropy', metrics=['accuracy'])"
      ],
      "execution_count": 0,
      "outputs": [
        {
          "output_type": "stream",
          "text": [
            "W0729 03:59:32.526367 140573070563200 deprecation_wrapper.py:119] From /usr/local/lib/python3.6/dist-packages/keras/optimizers.py:790: The name tf.train.Optimizer is deprecated. Please use tf.compat.v1.train.Optimizer instead.\n",
            "\n",
            "W0729 03:59:32.554370 140573070563200 deprecation_wrapper.py:119] From /usr/local/lib/python3.6/dist-packages/keras/backend/tensorflow_backend.py:3341: The name tf.log is deprecated. Please use tf.math.log instead.\n",
            "\n"
          ],
          "name": "stderr"
        }
      ]
    },
    {
      "cell_type": "markdown",
      "metadata": {
        "id": "RHaag4NrGl5U",
        "colab_type": "text"
      },
      "source": [
        "**Train the Model**"
      ]
    },
    {
      "cell_type": "code",
      "metadata": {
        "id": "YAAYFRV3GlMT",
        "colab_type": "code",
        "outputId": "be14ecb2-1086-4bb5-ade8-c5578f1d733b",
        "colab": {
          "base_uri": "https://localhost:8080/",
          "height": 1000
        }
      },
      "source": [
        "model.fit(x_train, y_train, epochs = 50)"
      ],
      "execution_count": 0,
      "outputs": [
        {
          "output_type": "stream",
          "text": [
            "W0729 03:59:32.693272 140573070563200 deprecation.py:323] From /usr/local/lib/python3.6/dist-packages/tensorflow/python/ops/math_grad.py:1250: add_dispatch_support.<locals>.wrapper (from tensorflow.python.ops.array_ops) is deprecated and will be removed in a future version.\n",
            "Instructions for updating:\n",
            "Use tf.where in 2.0, which has the same broadcast rule as np.where\n",
            "W0729 03:59:32.726114 140573070563200 deprecation_wrapper.py:119] From /usr/local/lib/python3.6/dist-packages/keras/backend/tensorflow_backend.py:986: The name tf.assign_add is deprecated. Please use tf.compat.v1.assign_add instead.\n",
            "\n"
          ],
          "name": "stderr"
        },
        {
          "output_type": "stream",
          "text": [
            "Epoch 1/50\n",
            "60000/60000 [==============================] - 3s 53us/step - loss: 0.4335 - acc: 0.8776\n",
            "Epoch 2/50\n",
            "60000/60000 [==============================] - 2s 41us/step - loss: 0.2547 - acc: 0.9272\n",
            "Epoch 3/50\n",
            "60000/60000 [==============================] - 2s 41us/step - loss: 0.2199 - acc: 0.9371\n",
            "Epoch 4/50\n",
            "60000/60000 [==============================] - 3s 42us/step - loss: 0.1968 - acc: 0.9433\n",
            "Epoch 5/50\n",
            "60000/60000 [==============================] - 2s 41us/step - loss: 0.1801 - acc: 0.9477\n",
            "Epoch 6/50\n",
            "60000/60000 [==============================] - 2s 41us/step - loss: 0.1678 - acc: 0.9516\n",
            "Epoch 7/50\n",
            "60000/60000 [==============================] - 2s 41us/step - loss: 0.1571 - acc: 0.9544\n",
            "Epoch 8/50\n",
            "60000/60000 [==============================] - 2s 42us/step - loss: 0.1495 - acc: 0.9561\n",
            "Epoch 9/50\n",
            "60000/60000 [==============================] - 2s 42us/step - loss: 0.1420 - acc: 0.9577\n",
            "Epoch 10/50\n",
            "60000/60000 [==============================] - 2s 41us/step - loss: 0.1365 - acc: 0.9595\n",
            "Epoch 11/50\n",
            "60000/60000 [==============================] - 2s 41us/step - loss: 0.1310 - acc: 0.9615\n",
            "Epoch 12/50\n",
            "60000/60000 [==============================] - 3s 42us/step - loss: 0.1267 - acc: 0.9631\n",
            "Epoch 13/50\n",
            "60000/60000 [==============================] - 3s 42us/step - loss: 0.1217 - acc: 0.9638\n",
            "Epoch 14/50\n",
            "60000/60000 [==============================] - 2s 42us/step - loss: 0.1186 - acc: 0.9647\n",
            "Epoch 15/50\n",
            "60000/60000 [==============================] - 2s 41us/step - loss: 0.1152 - acc: 0.9658\n",
            "Epoch 16/50\n",
            "60000/60000 [==============================] - 3s 42us/step - loss: 0.1134 - acc: 0.9654\n",
            "Epoch 17/50\n",
            "60000/60000 [==============================] - 2s 42us/step - loss: 0.1106 - acc: 0.9671\n",
            "Epoch 18/50\n",
            "60000/60000 [==============================] - 2s 41us/step - loss: 0.1082 - acc: 0.9676\n",
            "Epoch 19/50\n",
            "60000/60000 [==============================] - 2s 41us/step - loss: 0.1057 - acc: 0.9680\n",
            "Epoch 20/50\n",
            "60000/60000 [==============================] - 3s 42us/step - loss: 0.1043 - acc: 0.9682\n",
            "Epoch 21/50\n",
            "60000/60000 [==============================] - 2s 41us/step - loss: 0.1020 - acc: 0.9695\n",
            "Epoch 22/50\n",
            "60000/60000 [==============================] - 2s 42us/step - loss: 0.0990 - acc: 0.9703\n",
            "Epoch 23/50\n",
            "60000/60000 [==============================] - 2s 41us/step - loss: 0.0984 - acc: 0.9702\n",
            "Epoch 24/50\n",
            "60000/60000 [==============================] - 3s 42us/step - loss: 0.0968 - acc: 0.9713\n",
            "Epoch 25/50\n",
            "60000/60000 [==============================] - 2s 41us/step - loss: 0.0948 - acc: 0.9710\n",
            "Epoch 26/50\n",
            "60000/60000 [==============================] - 2s 41us/step - loss: 0.0941 - acc: 0.9713\n",
            "Epoch 27/50\n",
            "60000/60000 [==============================] - 2s 41us/step - loss: 0.0930 - acc: 0.9718\n",
            "Epoch 28/50\n",
            "60000/60000 [==============================] - 3s 42us/step - loss: 0.0918 - acc: 0.9723\n",
            "Epoch 29/50\n",
            "60000/60000 [==============================] - 2s 41us/step - loss: 0.0900 - acc: 0.9722\n",
            "Epoch 30/50\n",
            "60000/60000 [==============================] - 2s 41us/step - loss: 0.0889 - acc: 0.9729\n",
            "Epoch 31/50\n",
            "60000/60000 [==============================] - 2s 41us/step - loss: 0.0872 - acc: 0.9735\n",
            "Epoch 32/50\n",
            "60000/60000 [==============================] - 2s 41us/step - loss: 0.0868 - acc: 0.9737\n",
            "Epoch 33/50\n",
            "60000/60000 [==============================] - 2s 41us/step - loss: 0.0859 - acc: 0.9736\n",
            "Epoch 34/50\n",
            "60000/60000 [==============================] - 2s 41us/step - loss: 0.0847 - acc: 0.9738\n",
            "Epoch 35/50\n",
            "60000/60000 [==============================] - 2s 41us/step - loss: 0.0841 - acc: 0.9742\n",
            "Epoch 36/50\n",
            "60000/60000 [==============================] - 2s 42us/step - loss: 0.0833 - acc: 0.9748\n",
            "Epoch 37/50\n",
            "60000/60000 [==============================] - 2s 41us/step - loss: 0.0825 - acc: 0.9746\n",
            "Epoch 38/50\n",
            "60000/60000 [==============================] - 2s 41us/step - loss: 0.0809 - acc: 0.9751\n",
            "Epoch 39/50\n",
            "60000/60000 [==============================] - 2s 41us/step - loss: 0.0807 - acc: 0.9749\n",
            "Epoch 40/50\n",
            "60000/60000 [==============================] - 2s 41us/step - loss: 0.0800 - acc: 0.9748\n",
            "Epoch 41/50\n",
            "60000/60000 [==============================] - 2s 41us/step - loss: 0.0783 - acc: 0.9761\n",
            "Epoch 42/50\n",
            "60000/60000 [==============================] - 2s 41us/step - loss: 0.0777 - acc: 0.9764\n",
            "Epoch 43/50\n",
            "60000/60000 [==============================] - 2s 41us/step - loss: 0.0769 - acc: 0.9762\n",
            "Epoch 44/50\n",
            "60000/60000 [==============================] - 2s 41us/step - loss: 0.0762 - acc: 0.9762\n",
            "Epoch 45/50\n",
            "60000/60000 [==============================] - 2s 41us/step - loss: 0.0759 - acc: 0.9762\n",
            "Epoch 46/50\n",
            "60000/60000 [==============================] - 2s 41us/step - loss: 0.0751 - acc: 0.9770\n",
            "Epoch 47/50\n",
            "60000/60000 [==============================] - 2s 41us/step - loss: 0.0743 - acc: 0.9766\n",
            "Epoch 48/50\n",
            "60000/60000 [==============================] - 2s 41us/step - loss: 0.0739 - acc: 0.9768\n",
            "Epoch 49/50\n",
            "60000/60000 [==============================] - 2s 42us/step - loss: 0.0723 - acc: 0.9777\n",
            "Epoch 50/50\n",
            "60000/60000 [==============================] - 2s 41us/step - loss: 0.0729 - acc: 0.9773\n"
          ],
          "name": "stdout"
        },
        {
          "output_type": "execute_result",
          "data": {
            "text/plain": [
              "<keras.callbacks.History at 0x7fd9b147d4e0>"
            ]
          },
          "metadata": {
            "tags": []
          },
          "execution_count": 9
        }
      ]
    },
    {
      "cell_type": "markdown",
      "metadata": {
        "id": "G2rAJREDHCaV",
        "colab_type": "text"
      },
      "source": [
        "**Evaluating Accuracy** <br>\n",
        "On the Test set"
      ]
    },
    {
      "cell_type": "code",
      "metadata": {
        "id": "Awwgxi45HMPy",
        "colab_type": "code",
        "colab": {}
      },
      "source": [
        "y_pred = model.predict(x_test)\n",
        "y_pred2 = []\n",
        "for each in y_pred:\n",
        "#   max_value = each[0]\n",
        "#   counter = 0\n",
        "#   max_index = 0\n",
        "#   for x in each:\n",
        "#     counter += 1\n",
        "#     if x > max_value:\n",
        "#       max_value = x\n",
        "#       max_index = counter - 1\n",
        "#   y_pred2.append(max_index)\n",
        "  y_pred2.append(np.argmax(each))\n",
        "y_pred2 = np.around(y_pred2)"
      ],
      "execution_count": 0,
      "outputs": []
    },
    {
      "cell_type": "code",
      "metadata": {
        "id": "tecKU2shHgcK",
        "colab_type": "code",
        "outputId": "727af547-781a-47de-a554-18998a393a13",
        "colab": {
          "base_uri": "https://localhost:8080/",
          "height": 34
        }
      },
      "source": [
        "counter = 0\n",
        "total = 0\n",
        "for i in range(len(y_pred2)):\n",
        "  total += 1\n",
        "  if y_pred2[i] == y_test[i]:\n",
        "    counter += 1\n",
        "print(\"The accuracy is\", counter / total)"
      ],
      "execution_count": 0,
      "outputs": [
        {
          "output_type": "stream",
          "text": [
            "The accuracy is 0.9485\n"
          ],
          "name": "stdout"
        }
      ]
    }
  ]
}