{
  "nbformat": 4,
  "nbformat_minor": 0,
  "metadata": {
    "colab": {
      "name": "NumPy Practice",
      "version": "0.3.2",
      "provenance": [],
      "include_colab_link": true
    },
    "kernelspec": {
      "name": "python3",
      "display_name": "Python 3"
    }
  },
  "cells": [
    {
      "cell_type": "markdown",
      "metadata": {
        "id": "view-in-github",
        "colab_type": "text"
      },
      "source": [
        "<a href=\"https://colab.research.google.com/github/xuandy05/Python-A.I./blob/master/NumPy_Practice.ipynb\" target=\"_parent\"><img src=\"https://colab.research.google.com/assets/colab-badge.svg\" alt=\"Open In Colab\"/></a>"
      ]
    },
    {
      "cell_type": "markdown",
      "metadata": {
        "id": "8B0DscwE8i4e",
        "colab_type": "text"
      },
      "source": [
        "### NUMPY SPEED COMPARISON"
      ]
    },
    {
      "cell_type": "code",
      "metadata": {
        "id": "z1_2fzlO72G9",
        "colab_type": "code",
        "colab": {}
      },
      "source": [
        "k = 2\n",
        "for i in range(30):\n",
        "    k = k**2\n"
      ],
      "execution_count": 0,
      "outputs": []
    },
    {
      "cell_type": "code",
      "metadata": {
        "id": "VXp1KiZq8s6Y",
        "colab_type": "code",
        "colab": {}
      },
      "source": [
        "import numpy as np\n",
        "k = 2\n",
        "for i in range(30):\n",
        "    k = np.square(k)\n"
      ],
      "execution_count": 0,
      "outputs": []
    },
    {
      "cell_type": "markdown",
      "metadata": {
        "id": "3FaP-k5A-xbj",
        "colab_type": "text"
      },
      "source": [
        "### Creating a NumPy Array"
      ]
    },
    {
      "cell_type": "code",
      "metadata": {
        "id": "aVrkm30D-wr7",
        "colab_type": "code",
        "colab": {}
      },
      "source": [
        "#Example\n",
        "a = np.array([1,2,3,1,23,1,2,3,2,34,5])"
      ],
      "execution_count": 0,
      "outputs": []
    },
    {
      "cell_type": "markdown",
      "metadata": {
        "id": "WXxwJdPg-7AL",
        "colab_type": "text"
      },
      "source": [
        "> Square all of the values in the array"
      ]
    },
    {
      "cell_type": "code",
      "metadata": {
        "id": "X29QSSO2-7Xj",
        "colab_type": "code",
        "outputId": "47d58e12-0e3c-4977-bde1-a3a5a8f2fcf9",
        "colab": {
          "base_uri": "https://localhost:8080/",
          "height": 34
        }
      },
      "source": [
        "import numpy as np\n",
        "a = np.array([1,2,3,1,23,1,2,3,2,34,5])\n",
        "a = np.square(a)\n",
        "print(a)"
      ],
      "execution_count": 0,
      "outputs": [
        {
          "output_type": "stream",
          "text": [
            "[   1    4    9    1  529    1    4    9    4 1156   25]\n"
          ],
          "name": "stdout"
        }
      ]
    },
    {
      "cell_type": "markdown",
      "metadata": {
        "id": "leon21SD_Eb_",
        "colab_type": "text"
      },
      "source": [
        "Multiply the current array with the new array: <br>\n",
        "> [1,2,3,4,6,1,2,3,4,5,6]"
      ]
    },
    {
      "cell_type": "code",
      "metadata": {
        "id": "IopwPml8_l7Y",
        "colab_type": "code",
        "outputId": "74ffa860-276f-4c94-ae96-fb11206dad16",
        "colab": {
          "base_uri": "https://localhost:8080/",
          "height": 34
        }
      },
      "source": [
        "import numpy as np\n",
        "a = np.array([1,2,3,1,23,1,2,3,2,34,5])\n",
        "b = np.array([1,2,3,4,6,1,2,3,4,5,6])\n",
        "print(a * b)"
      ],
      "execution_count": 0,
      "outputs": [
        {
          "output_type": "stream",
          "text": [
            "[  1   4   9   4 138   1   4   9   8 170  30]\n"
          ],
          "name": "stdout"
        }
      ]
    },
    {
      "cell_type": "markdown",
      "metadata": {
        "id": "Ogd3oWQt_uG4",
        "colab_type": "text"
      },
      "source": [
        "### Create a 3x3 array of zeroes\n"
      ]
    },
    {
      "cell_type": "code",
      "metadata": {
        "id": "sJLwvjGQAFPi",
        "colab_type": "code",
        "outputId": "f0a971c7-017e-4e92-c399-2801005b97ba",
        "colab": {
          "base_uri": "https://localhost:8080/",
          "height": 68
        }
      },
      "source": [
        "import numpy as np\n",
        "c = np.zeros((3,3))\n",
        "print(c)"
      ],
      "execution_count": 0,
      "outputs": [
        {
          "output_type": "stream",
          "text": [
            "[[0. 0. 0.]\n",
            " [0. 0. 0.]\n",
            " [0. 0. 0.]]\n"
          ],
          "name": "stdout"
        }
      ]
    },
    {
      "cell_type": "markdown",
      "metadata": {
        "id": "bJLWPkIZAFlg",
        "colab_type": "text"
      },
      "source": [
        ">  Add 10 to the every value"
      ]
    },
    {
      "cell_type": "code",
      "metadata": {
        "id": "cQJ43IGmAbVC",
        "colab_type": "code",
        "outputId": "fea3acaf-9fa3-437e-af49-68e682715cf1",
        "colab": {
          "base_uri": "https://localhost:8080/",
          "height": 68
        }
      },
      "source": [
        "c + 10"
      ],
      "execution_count": 0,
      "outputs": [
        {
          "output_type": "execute_result",
          "data": {
            "text/plain": [
              "array([[10., 10., 10.],\n",
              "       [10., 10., 10.],\n",
              "       [10., 10., 10.]])"
            ]
          },
          "metadata": {
            "tags": []
          },
          "execution_count": 30
        }
      ]
    }
  ]
}