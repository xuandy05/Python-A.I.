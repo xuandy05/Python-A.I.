{
  "nbformat": 4,
  "nbformat_minor": 0,
  "metadata": {
    "colab": {
      "name": "Taxi Game",
      "version": "0.3.2",
      "provenance": [],
      "collapsed_sections": [],
      "include_colab_link": true
    },
    "kernelspec": {
      "name": "python3",
      "display_name": "Python 3"
    }
  },
  "cells": [
    {
      "cell_type": "markdown",
      "metadata": {
        "id": "view-in-github",
        "colab_type": "text"
      },
      "source": [
        "<a href=\"https://colab.research.google.com/github/xuandy05/Python-A.I./blob/master/Taxi_Game.ipynb\" target=\"_parent\"><img src=\"https://colab.research.google.com/assets/colab-badge.svg\" alt=\"Open In Colab\"/></a>"
      ]
    },
    {
      "cell_type": "code",
      "metadata": {
        "id": "pjG61xHrBC4I",
        "colab_type": "code",
        "colab": {}
      },
      "source": [
        "import gym\n",
        "\n",
        "env = gym.make(\"Taxi-v2\").env"
      ],
      "execution_count": 0,
      "outputs": []
    },
    {
      "cell_type": "code",
      "metadata": {
        "id": "6JEchv_CKXFP",
        "colab_type": "code",
        "outputId": "7cb9c33e-f8b1-43f2-bfee-87e62ad30f98",
        "colab": {
          "base_uri": "https://localhost:8080/",
          "height": 153
        }
      },
      "source": [
        "env.reset()\n",
        "env.render() # displays the environment"
      ],
      "execution_count": 0,
      "outputs": [
        {
          "output_type": "stream",
          "text": [
            "+---------+\n",
            "|R: | : :\u001b[34;1mG\u001b[0m|\n",
            "| : : : : |\n",
            "| : :\u001b[43m \u001b[0m: : |\n",
            "| | : | : |\n",
            "|\u001b[35mY\u001b[0m| : |B: |\n",
            "+---------+\n",
            "\n"
          ],
          "name": "stdout"
        }
      ]
    },
    {
      "cell_type": "markdown",
      "metadata": {
        "id": "7neV3mzDKnBI",
        "colab_type": "text"
      },
      "source": [
        "There are 6 different actions, represented with a number 0 to 5<br>\n",
        "0. south <br>\n",
        "1. north<br>\n",
        "2. east<br>\n",
        "3. west<br>\n",
        "4. pickup<br>\n",
        "5. dropoff<br>"
      ]
    },
    {
      "cell_type": "markdown",
      "metadata": {
        "id": "2kmb0c_2Mnx_",
        "colab_type": "text"
      },
      "source": [
        "The reward policy: <br>\n",
        "-1 for every action except dropoff <br>\n",
        "-10 for drop/pickup at wrong location<br>\n",
        "+20 when passenger arrives at their destination <br>"
      ]
    },
    {
      "cell_type": "code",
      "metadata": {
        "id": "iGv5aZEVKmlt",
        "colab_type": "code",
        "outputId": "cb33db1a-9190-4281-ae16-f7b73c5302e1",
        "colab": {
          "base_uri": "https://localhost:8080/",
          "height": 153
        }
      },
      "source": [
        "state, reward, done, info = env.step(0) # this will move the taxi to the south.\n",
        "#state is the next state that occurs after the aciton\n",
        "#reward is thstate, reward, done, info = env.step(0)e reward given after that action\n",
        "#done is True when the passenger has been picked up and delivered to his destination. False otherwise\n",
        "#info additional info such as latency. No relevant to our project\n",
        "env.render()\n"
      ],
      "execution_count": 0,
      "outputs": [
        {
          "output_type": "stream",
          "text": [
            "+---------+\n",
            "|R: | : :\u001b[34;1mG\u001b[0m|\n",
            "| : : : : |\n",
            "| : : : : |\n",
            "| | :\u001b[43m \u001b[0m| : |\n",
            "|\u001b[35mY\u001b[0m| : |B: |\n",
            "+---------+\n",
            "  (South)\n"
          ],
          "name": "stdout"
        }
      ]
    },
    {
      "cell_type": "markdown",
      "metadata": {
        "id": "6GfpuO4RR-UM",
        "colab_type": "text"
      },
      "source": [
        "Solve your current environment. By manually making the correct actions."
      ]
    },
    {
      "cell_type": "code",
      "metadata": {
        "id": "WAQINvyjIpvE",
        "colab_type": "code",
        "colab": {}
      },
      "source": [
        "state = env.reset() # reset environment to a new, random state"
      ],
      "execution_count": 0,
      "outputs": []
    },
    {
      "cell_type": "code",
      "metadata": {
        "id": "IT3bcmkBMEbS",
        "colab_type": "code",
        "outputId": "697d6d4a-244d-4956-a851-e3146da8a542",
        "colab": {
          "base_uri": "https://localhost:8080/",
          "height": 51
        }
      },
      "source": [
        "print(\"Action Space {}\".format(env.action_space))\n",
        "print(\"State Space {}\".format(env.observation_space))\n",
        "# Why is the state space 500? "
      ],
      "execution_count": 0,
      "outputs": [
        {
          "output_type": "stream",
          "text": [
            "Action Space Discrete(6)\n",
            "State Space Discrete(500)\n"
          ],
          "name": "stdout"
        }
      ]
    },
    {
      "cell_type": "code",
      "metadata": {
        "id": "32F2dRN9MGS_",
        "colab_type": "code",
        "outputId": "c004829b-20e9-48b3-8131-ac308e888549",
        "colab": {
          "base_uri": "https://localhost:8080/",
          "height": 34
        }
      },
      "source": [
        "action = env.action_space.sample() # this will get a random action\n",
        "print(action)"
      ],
      "execution_count": 0,
      "outputs": [
        {
          "output_type": "stream",
          "text": [
            "5\n"
          ],
          "name": "stdout"
        }
      ]
    },
    {
      "cell_type": "code",
      "metadata": {
        "id": "bnQ7jfKcBb_X",
        "colab_type": "code",
        "colab": {}
      },
      "source": [
        "import numpy as np\n",
        "q_table = np.zeros([env.observation_space.n, env.action_space.n]) #intializes the Q-Table to all 0's"
      ],
      "execution_count": 0,
      "outputs": []
    },
    {
      "cell_type": "markdown",
      "metadata": {
        "id": "lseR4M-KNRhx",
        "colab_type": "text"
      },
      "source": [
        "Use epsilon-greedy and q-learning to train an AI to play this game.\n",
        "\n",
        "> Indented block\n",
        "\n"
      ]
    },
    {
      "cell_type": "code",
      "metadata": {
        "id": "wuS6RbJ7JgMp",
        "colab_type": "code",
        "colab": {}
      },
      "source": [
        "import random\n",
        "exp = 0.1\n",
        "alpha = 0.1\n",
        "gamma = 0.6\n",
        "for i in range(10000):\n",
        "  state = env.reset()\n",
        "  done = False\n",
        "  while done == False:\n",
        "    e = random.uniform(0, 1)\n",
        "    if e > exp:\n",
        "      action = np.argmax(q_table[state])\n",
        "      new_state, reward, done, info = env.step(action)\n",
        "    else:\n",
        "      action = env.action_space.sample()\n",
        "      new_state, reward, done, info = env.step(action)\n",
        "    q_table[state][action] = (1 - alpha)*q_table[state][action] + alpha*(reward + gamma* max(q_table[new_state]))\n",
        "    state = new_state\n"
      ],
      "execution_count": 0,
      "outputs": []
    },
    {
      "cell_type": "code",
      "metadata": {
        "id": "wxwDcVTWdF0X",
        "colab_type": "code",
        "outputId": "07de5c36-c999-49c6-c54e-d0afbdfc9958",
        "colab": {
          "base_uri": "https://localhost:8080/",
          "height": 153
        }
      },
      "source": [
        "from time import sleep\n",
        "from IPython.display import clear_output\n",
        "env.reset()\n",
        "done = False\n",
        "while done == False:\n",
        "  action = np.argmax(q_table[state])\n",
        "  state, reward, done, info = env.step(action)\n",
        "\n",
        "  env.render()\n",
        "  sleep(1)\n",
        "  clear_output(wait = True)"
      ],
      "execution_count": 0,
      "outputs": [
        {
          "output_type": "stream",
          "text": [
            "+---------+\n",
            "|R: | : :G|\n",
            "| : : : : |\n",
            "| : : : : |\n",
            "| | : | : |\n",
            "|\u001b[35m\u001b[34;1m\u001b[43mY\u001b[0m\u001b[0m\u001b[0m| : |B: |\n",
            "+---------+\n",
            "  (Dropoff)\n"
          ],
          "name": "stdout"
        }
      ]
    }
  ]
}