{
  "nbformat": 4,
  "nbformat_minor": 0,
  "metadata": {
    "colab": {
      "name": "ASL Identification",
      "version": "0.3.2",
      "provenance": [],
      "include_colab_link": true
    },
    "kernelspec": {
      "name": "python3",
      "display_name": "Python 3"
    }
  },
  "cells": [
    {
      "cell_type": "markdown",
      "metadata": {
        "id": "view-in-github",
        "colab_type": "text"
      },
      "source": [
        "<a href=\"https://colab.research.google.com/github/xuandy05/Python-A.I./blob/master/ASL_Identification.ipynb\" target=\"_parent\"><img src=\"https://colab.research.google.com/assets/colab-badge.svg\" alt=\"Open In Colab\"/></a>"
      ]
    },
    {
      "cell_type": "code",
      "metadata": {
        "id": "8k7heYxC5-HX",
        "colab_type": "code",
        "outputId": "d908684e-099e-4fab-ece9-64720dfc81a7",
        "colab": {
          "base_uri": "https://localhost:8080/",
          "height": 51
        }
      },
      "source": [
        "!mkdir .kaggle\n",
        "!mkdir ~/.kaggle"
      ],
      "execution_count": 0,
      "outputs": [
        {
          "output_type": "stream",
          "text": [
            "mkdir: cannot create directory ‘.kaggle’: File exists\n",
            "mkdir: cannot create directory ‘/root/.kaggle’: File exists\n"
          ],
          "name": "stdout"
        }
      ]
    },
    {
      "cell_type": "code",
      "metadata": {
        "id": "owT6P1qwtmpx",
        "colab_type": "code",
        "outputId": "14630c4a-1fee-47c3-81cf-7b1aa44e1849",
        "colab": {
          "base_uri": "https://localhost:8080/",
          "height": 51
        }
      },
      "source": [
        "import os\n",
        "import json\n",
        "\n",
        "\n",
        "token = {\"username\":\"bdonluong\",\"key\":\"44600f6f95296c477b56c17f51c39d6f\"}\n",
        "with open('/content/.kaggle/kaggle.json', 'w') as file:\n",
        "    json.dump(token, file)\n",
        "    \n",
        "!cp /content/.kaggle/kaggle.json ~/.kaggle/kaggle.json\n",
        "!kaggle config set -n path -v{/content}\n",
        "!chmod 600 /root/.kaggle/kaggle.json\n",
        "\n"
      ],
      "execution_count": 0,
      "outputs": [
        {
          "output_type": "stream",
          "text": [
            "Warning: Your Kaggle API key is readable by other users on this system! To fix this, you can run 'chmod 600 /root/.kaggle/kaggle.json'\n",
            "- path is now set to: {/content}\n"
          ],
          "name": "stdout"
        }
      ]
    },
    {
      "cell_type": "code",
      "metadata": {
        "id": "uZSWZ7Zu81Km",
        "colab_type": "code",
        "outputId": "ea421c80-ba04-4811-d667-da0bcead94aa",
        "colab": {
          "base_uri": "https://localhost:8080/",
          "height": 85
        }
      },
      "source": [
        "!kaggle datasets download -d ardamavi/sign-language-digits-dataset -p /content/datasets/kaggle-hs\n",
        "%cd datasets/kaggle-hs/"
      ],
      "execution_count": 0,
      "outputs": [
        {
          "output_type": "stream",
          "text": [
            "Downloading sign-language-digits-dataset.zip to /content/datasets/kaggle-hs\n",
            " 63% 5.00M/7.94M [00:00<00:00, 41.4MB/s]\n",
            "100% 7.94M/7.94M [00:00<00:00, 50.4MB/s]\n",
            "/content/datasets/kaggle-hs\n"
          ],
          "name": "stdout"
        }
      ]
    },
    {
      "cell_type": "code",
      "metadata": {
        "id": "4b2KKIVV_UNG",
        "colab_type": "code",
        "outputId": "30b5e287-c998-472c-a712-fbd3722cdc31",
        "colab": {
          "base_uri": "https://localhost:8080/",
          "height": 204
        }
      },
      "source": [
        "!unzip \\*zip\n",
        "!unzip \\*zip"
      ],
      "execution_count": 0,
      "outputs": [
        {
          "output_type": "stream",
          "text": [
            "Archive:  sign-language-digits-dataset.zip\n",
            "  inflating: Sign-language-digits-dataset.zip  \n",
            "Archive:  sign-language-digits-dataset.zip\n",
            "replace Sign-language-digits-dataset.zip? [y]es, [n]o, [A]ll, [N]one, [r]ename: y\n",
            "  inflating: Sign-language-digits-dataset.zip  \n",
            "\n",
            "Archive:  Sign-language-digits-dataset.zip\n",
            "  inflating: X.npy                   \n",
            "  inflating: Y.npy                   \n",
            "\n",
            "2 archives were successfully processed.\n"
          ],
          "name": "stdout"
        }
      ]
    },
    {
      "cell_type": "code",
      "metadata": {
        "id": "Q8Iv3Wvq5sxT",
        "colab_type": "code",
        "outputId": "656b6a8c-ef72-4a28-a6b0-20e72a8b0a84",
        "colab": {
          "base_uri": "https://localhost:8080/",
          "height": 85
        }
      },
      "source": [
        "dsroot = os.getcwd()\n",
        "os.listdir(dsroot)"
      ],
      "execution_count": 0,
      "outputs": [
        {
          "output_type": "execute_result",
          "data": {
            "text/plain": [
              "['sign-language-digits-dataset.zip',\n",
              " 'Y.npy',\n",
              " 'Sign-language-digits-dataset.zip',\n",
              " 'X.npy']"
            ]
          },
          "metadata": {
            "tags": []
          },
          "execution_count": 5
        }
      ]
    },
    {
      "cell_type": "code",
      "metadata": {
        "id": "7UAQPWxbISQk",
        "colab_type": "code",
        "colab": {}
      },
      "source": [
        "# load data set\n",
        "import numpy as np\n",
        "\n",
        "x_l = np.load('X.npy')\n",
        "y_l = np.load('Y.npy')\n",
        "y_l = np.argmax(y_l,axis = 1)"
      ],
      "execution_count": 0,
      "outputs": []
    },
    {
      "cell_type": "code",
      "metadata": {
        "id": "iOKODfUqruRc",
        "colab_type": "code",
        "outputId": "455963f0-d46a-40d4-dc38-a2a283b06735",
        "colab": {
          "base_uri": "https://localhost:8080/",
          "height": 286
        }
      },
      "source": [
        "import matplotlib.pyplot as plt\n",
        "plt.imshow(x_l[0])\n",
        "y_l[0]"
      ],
      "execution_count": 0,
      "outputs": [
        {
          "output_type": "execute_result",
          "data": {
            "text/plain": [
              "0"
            ]
          },
          "metadata": {
            "tags": []
          },
          "execution_count": 43
        },
        {
          "output_type": "display_data",
          "data": {
            "image/png": "[encoded data removed]",
            "text/plain": [
              "<Figure size 432x288 with 1 Axes>"
            ]
          },
          "metadata": {
            "tags": []
          }
        }
      ]
    },
    {
      "cell_type": "code",
      "metadata": {
        "id": "Qf9TEyceukyl",
        "colab_type": "code",
        "colab": {}
      },
      "source": [
        "x_l = x_l.reshape(x_l.shape[0],64,64,1)"
      ],
      "execution_count": 0,
      "outputs": []
    },
    {
      "cell_type": "code",
      "metadata": {
        "id": "1YUjnUhuvH1n",
        "colab_type": "code",
        "colab": {}
      },
      "source": [
        "from sklearn.model_selection import train_test_split\n",
        "x_train, x_test, y_train, y_test = train_test_split(x_l, y_l, test_size = 0.2)"
      ],
      "execution_count": 0,
      "outputs": []
    },
    {
      "cell_type": "code",
      "metadata": {
        "id": "l7ibqlWmxnEG",
        "colab_type": "code",
        "colab": {}
      },
      "source": [
        "from keras.models import Sequential\n",
        "model = Sequential()\n",
        "\n",
        "from keras.layers import Dense, Flatten, Conv2D, MaxPooling2D\n",
        "model.add(Conv2D(32, kernel_size = (3,3), padding = 'same', activation = 'relu'))\n",
        "model.add(MaxPooling2D(pool_size = (2,2)))\n",
        "model.add(Conv2D(32, kernel_size = (3,3), padding = 'same', activation = 'relu'))\n",
        "model.add(MaxPooling2D(pool_size = (2,2)))\n",
        "model.add(Conv2D(32, kernel_size = (3,3), padding = 'same', activation = 'relu'))\n",
        "model.add(MaxPooling2D(pool_size = (2,2)))\n",
        "model.add(Flatten())\n",
        "model.add(Dense(10, activation = 'softmax'))"
      ],
      "execution_count": 0,
      "outputs": []
    },
    {
      "cell_type": "code",
      "metadata": {
        "id": "XKRzntZc1HLA",
        "colab_type": "code",
        "colab": {}
      },
      "source": [
        "model.compile(optimizer = 'adam', loss='categorical_crossentropy', metrics=['accuracy'])"
      ],
      "execution_count": 0,
      "outputs": []
    },
    {
      "cell_type": "code",
      "metadata": {
        "id": "bEnDGMft1MU2",
        "colab_type": "code",
        "outputId": "9126749b-3660-46e6-9b2b-65b7fa074dd5",
        "colab": {
          "base_uri": "https://localhost:8080/",
          "height": 714
        }
      },
      "source": [
        "history = model.fit(x = x_train, y = keras.utils.to_categorical(y_train, num_classes = 10), batch_size = 16, epochs = 20, validation_split = 0.2)"
      ],
      "execution_count": 0,
      "outputs": [
        {
          "output_type": "stream",
          "text": [
            "Train on 1319 samples, validate on 330 samples\n",
            "Epoch 1/20\n",
            "1319/1319 [==============================] - 8s 6ms/step - loss: 2.3001 - acc: 0.1304 - val_loss: 2.2668 - val_acc: 0.1061\n",
            "Epoch 2/20\n",
            "1319/1319 [==============================] - 7s 6ms/step - loss: 1.4011 - acc: 0.5580 - val_loss: 0.9995 - val_acc: 0.6788\n",
            "Epoch 3/20\n",
            "1319/1319 [==============================] - 7s 5ms/step - loss: 0.6234 - acc: 0.7991 - val_loss: 0.6366 - val_acc: 0.7758\n",
            "Epoch 4/20\n",
            "1319/1319 [==============================] - 7s 5ms/step - loss: 0.4385 - acc: 0.8605 - val_loss: 0.5213 - val_acc: 0.8424\n",
            "Epoch 5/20\n",
            "1319/1319 [==============================] - 7s 5ms/step - loss: 0.3410 - acc: 0.8908 - val_loss: 0.4469 - val_acc: 0.8636\n",
            "Epoch 6/20\n",
            "1319/1319 [==============================] - 7s 5ms/step - loss: 0.2680 - acc: 0.9204 - val_loss: 0.4073 - val_acc: 0.8788\n",
            "Epoch 7/20\n",
            "1319/1319 [==============================] - 7s 5ms/step - loss: 0.1874 - acc: 0.9477 - val_loss: 0.5111 - val_acc: 0.8636\n",
            "Epoch 8/20\n",
            "1319/1319 [==============================] - 7s 5ms/step - loss: 0.1632 - acc: 0.9553 - val_loss: 0.4818 - val_acc: 0.8697\n",
            "Epoch 9/20\n",
            "1319/1319 [==============================] - 7s 5ms/step - loss: 0.1259 - acc: 0.9598 - val_loss: 0.4255 - val_acc: 0.8879\n",
            "Epoch 10/20\n",
            "1319/1319 [==============================] - 7s 5ms/step - loss: 0.0762 - acc: 0.9871 - val_loss: 0.4908 - val_acc: 0.8848\n",
            "Epoch 11/20\n",
            "1319/1319 [==============================] - 7s 5ms/step - loss: 0.0556 - acc: 0.9871 - val_loss: 0.4752 - val_acc: 0.8970\n",
            "Epoch 12/20\n",
            "1319/1319 [==============================] - 7s 6ms/step - loss: 0.0366 - acc: 0.9932 - val_loss: 0.5116 - val_acc: 0.8879\n",
            "Epoch 13/20\n",
            "1319/1319 [==============================] - 7s 6ms/step - loss: 0.0270 - acc: 0.9947 - val_loss: 0.4759 - val_acc: 0.8970\n",
            "Epoch 14/20\n",
            "1319/1319 [==============================] - 7s 6ms/step - loss: 0.0175 - acc: 0.9977 - val_loss: 0.4927 - val_acc: 0.8909\n",
            "Epoch 15/20\n",
            "1319/1319 [==============================] - 7s 5ms/step - loss: 0.0135 - acc: 0.9992 - val_loss: 0.5662 - val_acc: 0.8879\n",
            "Epoch 16/20\n",
            "1319/1319 [==============================] - 7s 6ms/step - loss: 0.0079 - acc: 0.9992 - val_loss: 0.5621 - val_acc: 0.9000\n",
            "Epoch 17/20\n",
            "1319/1319 [==============================] - 7s 6ms/step - loss: 0.0068 - acc: 0.9992 - val_loss: 0.5892 - val_acc: 0.8939\n",
            "Epoch 18/20\n",
            "1319/1319 [==============================] - 7s 6ms/step - loss: 0.0069 - acc: 0.9985 - val_loss: 0.5763 - val_acc: 0.9000\n",
            "Epoch 19/20\n",
            "1319/1319 [==============================] - 7s 6ms/step - loss: 0.0023 - acc: 1.0000 - val_loss: 0.5758 - val_acc: 0.9061\n",
            "Epoch 20/20\n",
            "1319/1319 [==============================] - 7s 6ms/step - loss: 0.0017 - acc: 1.0000 - val_loss: 0.5899 - val_acc: 0.9030\n"
          ],
          "name": "stdout"
        }
      ]
    },
    {
      "cell_type": "code",
      "metadata": {
        "id": "wpIinCDM6qdA",
        "colab_type": "code",
        "outputId": "7f013a26-4ea6-4f33-9eb1-44909faaf909",
        "colab": {
          "base_uri": "https://localhost:8080/",
          "height": 286
        }
      },
      "source": [
        "plt.plot(history.history['acc'])\n",
        "plt.plot(history.history['val_acc'])"
      ],
      "execution_count": 0,
      "outputs": [
        {
          "output_type": "execute_result",
          "data": {
            "text/plain": [
              "[<matplotlib.lines.Line2D at 0x7f024acd7390>]"
            ]
          },
          "metadata": {
            "tags": []
          },
          "execution_count": 111
        },
        {
          "output_type": "display_data",
          "data": {
            "image/png": "[encoded data removed]",
            "text/plain": [
              "<Figure size 432x288 with 1 Axes>"
            ]
          },
          "metadata": {
            "tags": []
          }
        }
      ]
    },
    {
      "cell_type": "code",
      "metadata": {
        "id": "Ladx1ViJ7mKQ",
        "colab_type": "code",
        "outputId": "93a398fb-d646-4755-8d93-2647e6c6ce56",
        "colab": {
          "base_uri": "https://localhost:8080/",
          "height": 34
        }
      },
      "source": [
        "import numpy as np\n",
        "y_pred = model.predict(x_test)\n",
        "counter = 0\n",
        "total = 0\n",
        "y_pred2 = []\n",
        "for each in y_pred:\n",
        "  y_pred2.append(np.argmax(each))\n",
        "for i in range(len(y_pred2)):\n",
        "  total += 1\n",
        "  if y_pred2[i] == y_test[i]:\n",
        "    counter += 1\n",
        "print(\"The accuracy is\", counter / total)"
      ],
      "execution_count": 0,
      "outputs": [
        {
          "output_type": "stream",
          "text": [
            "The accuracy is 0.8692493946731235\n"
          ],
          "name": "stdout"
        }
      ]
    }
  ]
}