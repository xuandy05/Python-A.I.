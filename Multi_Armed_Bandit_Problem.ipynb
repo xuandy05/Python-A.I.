{
  "nbformat": 4,
  "nbformat_minor": 0,
  "metadata": {
    "colab": {
      "name": "Multi-Armed Bandit Problem",
      "version": "0.3.2",
      "provenance": [],
      "collapsed_sections": [],
      "include_colab_link": true
    },
    "kernelspec": {
      "name": "python3",
      "display_name": "Python 3"
    }
  },
  "cells": [
    {
      "cell_type": "markdown",
      "metadata": {
        "id": "view-in-github",
        "colab_type": "text"
      },
      "source": [
        "<a href=\"https://colab.research.google.com/github/xuandy05/Python-A.I./blob/master/Multi_Armed_Bandit_Problem.ipynb\" target=\"_parent\"><img src=\"https://colab.research.google.com/assets/colab-badge.svg\" alt=\"Open In Colab\"/></a>"
      ]
    },
    {
      "cell_type": "markdown",
      "metadata": {
        "id": "CzjngF-N-GFf",
        "colab_type": "text"
      },
      "source": [
        "There are N different slot machines. <br>\n",
        "On a successful pull the machine will return 5 coins, on an unsuccessfull pull you will lose 3 coins. Each slot machine has its own success rates.<br>\n",
        "Use Q-learning to find the machine with the best reward rates"
      ]
    },
    {
      "cell_type": "code",
      "metadata": {
        "id": "vJwdr8tL-DNG",
        "colab_type": "code",
        "outputId": "14d7357e-eccf-4549-c9ca-b28a51890107",
        "colab": {
          "base_uri": "https://localhost:8080/",
          "height": 51
        }
      },
      "source": [
        "import numpy as np\n",
        "\n",
        "n = 10\n",
        "slotmachines = np.random.uniform(0,1,n)\n",
        "exp = 0.8 #Exploration Rate\n",
        "\n",
        "def pull(num):\n",
        "  global slotmachines\n",
        "  if (np.random.uniform(0,1) <= slotmachines[num]):\n",
        "    return 5\n",
        "  return -3\n",
        "\n",
        "print(slotmachines)"
      ],
      "execution_count": 0,
      "outputs": [
        {
          "output_type": "stream",
          "text": [
            "[0.8861717  0.59450948 0.37285083 0.61471447 0.66235005 0.86151809\n",
            " 0.01522161 0.98029828 0.22131666 0.76393127]\n"
          ],
          "name": "stdout"
        }
      ]
    },
    {
      "cell_type": "code",
      "metadata": {
        "id": "5bHB6cIY_z_d",
        "colab_type": "code",
        "outputId": "243fc2c4-52c6-407b-9daf-1c24a93e7dee",
        "colab": {
          "base_uri": "https://localhost:8080/",
          "height": 51
        }
      },
      "source": [
        "import random\n",
        "def bandit(epochs):\n",
        "  global n, slotmachines, exp\n",
        "  money = [0, 0, 0, 0, 0, 0, 0, 0, 0, 0]\n",
        "  money = np.array(money)\n",
        "  times_pulled = [0, 0, 0, 0, 0, 0, 0, 0, 0, 0]\n",
        "  times_pulled = np.array(times_pulled)\n",
        "  best_machine = random.randint(0, 9)\n",
        "  for i in range(epochs):\n",
        "    if random.uniform(0, 1) < 0.8:\n",
        "      current_machine = random.randint(0, 9)\n",
        "      money[current_machine] += pull(current_machine)\n",
        "      times_pulled[current_machine] += 1\n",
        "    else:\n",
        "      money[best_machine] += pull(best_machine)\n",
        "      times_pulled[best_machine] += 1\n",
        "      averages = money / times_pulled\n",
        "      best_machine = np.argmax(averages)\n",
        "  print(\"The best machine is machine number\", best_machine)\n",
        "bandit(1000)"
      ],
      "execution_count": 0,
      "outputs": [
        {
          "output_type": "stream",
          "text": [
            "The best machine is machine number 7\n"
          ],
          "name": "stdout"
        },
        {
          "output_type": "stream",
          "text": [
            "/usr/local/lib/python3.6/dist-packages/ipykernel_launcher.py:17: RuntimeWarning: invalid value encountered in true_divide\n"
          ],
          "name": "stderr"
        }
      ]
    }
  ]
}