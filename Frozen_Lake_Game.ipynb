{
  "nbformat": 4,
  "nbformat_minor": 0,
  "metadata": {
    "colab": {
      "name": "Frozen Lake Game",
      "version": "0.3.2",
      "provenance": [],
      "include_colab_link": true
    },
    "kernelspec": {
      "name": "python3",
      "display_name": "Python 3"
    }
  },
  "cells": [
    {
      "cell_type": "markdown",
      "metadata": {
        "id": "view-in-github",
        "colab_type": "text"
      },
      "source": [
        "<a href=\"https://colab.research.google.com/github/xuandy05/Python-A.I./blob/master/Frozen_Lake_Game.ipynb\" target=\"_parent\"><img src=\"https://colab.research.google.com/assets/colab-badge.svg\" alt=\"Open In Colab\"/></a>"
      ]
    },
    {
      "cell_type": "code",
      "metadata": {
        "id": "K2It8kuJIaz-",
        "colab_type": "code",
        "outputId": "ee975954-4def-434c-e72b-5ccf76e4b32a",
        "colab": {
          "base_uri": "https://localhost:8080/",
          "height": 102
        }
      },
      "source": [
        "import gym\n",
        "\n",
        "env = gym.make(\"FrozenLake-v0\").env\n",
        "env.render()"
      ],
      "execution_count": 0,
      "outputs": [
        {
          "output_type": "stream",
          "text": [
            "\n",
            "\u001b[41mS\u001b[0mFFF\n",
            "FHFH\n",
            "FFFH\n",
            "HFFG\n"
          ],
          "name": "stdout"
        }
      ]
    },
    {
      "cell_type": "markdown",
      "metadata": {
        "id": "NvfOX1NJKNaL",
        "colab_type": "text"
      },
      "source": [
        "***FROZEN LAKE*** <br>\n",
        "GOAL: Move from the Start position (S) to the Goal(G <br>\n",
        "**DANGER** <br>\n",
        "IF YOU STEP IN A HOLE U WILL LOSE. <br>\n",
        " THE FLOOR IS SPILLERY. SOMETIMES YOU WILL SLIP TO THE LEFT OR RIGHT OF YOUR INTENDED ACTION. (ex: left can slip up or down, up can slip left or right)"
      ]
    },
    {
      "cell_type": "code",
      "metadata": {
        "id": "rHvql3mrJcK5",
        "colab_type": "code",
        "outputId": "fd889f73-0aa7-45eb-9704-180fa72da1af",
        "colab": {
          "base_uri": "https://localhost:8080/",
          "height": 102
        }
      },
      "source": [
        "env.reset()\n",
        "env.render()"
      ],
      "execution_count": 0,
      "outputs": [
        {
          "output_type": "stream",
          "text": [
            "\n",
            "\u001b[41mS\u001b[0mFFF\n",
            "FHFH\n",
            "FFFH\n",
            "HFFG\n"
          ],
          "name": "stdout"
        }
      ]
    },
    {
      "cell_type": "code",
      "metadata": {
        "id": "2vGGUlyDJemo",
        "colab_type": "code",
        "outputId": "fb1b75bf-a6ab-4a1f-8efc-3c2805a20aa7",
        "colab": {
          "base_uri": "https://localhost:8080/",
          "height": 51
        }
      },
      "source": [
        "print(env.action_space)\n",
        "print(env.observation_space)"
      ],
      "execution_count": 0,
      "outputs": [
        {
          "output_type": "stream",
          "text": [
            "Discrete(4)\n",
            "Discrete(16)\n"
          ],
          "name": "stdout"
        }
      ]
    },
    {
      "cell_type": "markdown",
      "metadata": {
        "id": "Pvn35wiMLMz1",
        "colab_type": "text"
      },
      "source": [
        "There are 4 actions:<br>\n",
        "0. Left\n",
        "1. Down\n",
        "2. Right\n",
        "3. Up\n"
      ]
    },
    {
      "cell_type": "code",
      "metadata": {
        "id": "A6Tva4lcJ0UO",
        "colab_type": "code",
        "outputId": "2d9067b3-0ba1-421d-90ac-18ecb58d0a45",
        "colab": {
          "base_uri": "https://localhost:8080/",
          "height": 102
        }
      },
      "source": [
        "state, reward, done, info = env.step(0)\n",
        "env.render()"
      ],
      "execution_count": 0,
      "outputs": [
        {
          "output_type": "stream",
          "text": [
            "  (Left)\n",
            "SFFF\n",
            "F\u001b[41mH\u001b[0mFH\n",
            "FFFH\n",
            "HFFG\n"
          ],
          "name": "stdout"
        }
      ]
    },
    {
      "cell_type": "code",
      "metadata": {
        "id": "Kz1j9uW7ELba",
        "colab_type": "code",
        "outputId": "8a6256d7-b039-4c96-cf10-3aa13a1b3404",
        "colab": {
          "base_uri": "https://localhost:8080/",
          "height": 187
        }
      },
      "source": [
        "import random\n",
        "import numpy as np\n",
        "q_table = np.zeros([env.observation_space.n, env.action_space.n])\n",
        "exp = 0\n",
        "alpha = 0.8\n",
        "gamma = 0.8\n",
        "for i in range(10000):\n",
        "  state = env.reset()\n",
        "  done = False\n",
        "  steps = 0\n",
        "  while steps < 100 or done == False:\n",
        "    e = random.uniform(0, 1)\n",
        "    if e < exp:\n",
        "      action = np.argmax(q_table[state])\n",
        "      new_state, reward, done, info = env.step(action)\n",
        "    else:\n",
        "      action = env.action_space.sample()\n",
        "      new_state, reward, done, info = env.step(action)\n",
        "    steps += 1\n",
        "    q_table[state][action] = (1 - alpha)*q_table[state][action] + alpha*(reward + gamma* max(q_table[new_state]))\n",
        "    state = new_state\n",
        "  if i % 1000 == 0:\n",
        "    exp += 0.2"
      ],
      "execution_count": 0,
      "outputs": [
        {
          "output_type": "stream",
          "text": [
            "0\n",
            "1000\n",
            "2000\n",
            "3000\n",
            "4000\n",
            "5000\n",
            "6000\n",
            "7000\n",
            "8000\n",
            "9000\n"
          ],
          "name": "stdout"
        }
      ]
    },
    {
      "cell_type": "code",
      "metadata": {
        "id": "WWcQjrE-FSM0",
        "colab_type": "code",
        "outputId": "8706ba6d-b7ee-471d-ad74-d70ccd2e6624",
        "colab": {
          "base_uri": "https://localhost:8080/",
          "height": 102
        }
      },
      "source": [
        "from time import sleep\n",
        "from IPython.display import clear_output\n",
        "state = env.reset()\n",
        "done = False\n",
        "while done == False:\n",
        "  action = np.argmax(q_table[state])\n",
        "  state, reward, done, info = env.step(action)\n",
        "\n",
        "  env.render()\n",
        "  sleep(1)\n",
        "  clear_output(wait = True)"
      ],
      "execution_count": 0,
      "outputs": [
        {
          "output_type": "stream",
          "text": [
            "  (Down)\n",
            "SFFF\n",
            "FHFH\n",
            "FFFH\n",
            "HFF\u001b[41mG\u001b[0m\n"
          ],
          "name": "stdout"
        }
      ]
    }
  ]
}