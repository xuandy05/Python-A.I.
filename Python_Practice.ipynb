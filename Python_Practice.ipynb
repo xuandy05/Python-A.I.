{
  "nbformat": 4,
  "nbformat_minor": 0,
  "metadata": {
    "colab": {
      "name": "Python Practice",
      "version": "0.3.2",
      "provenance": [],
      "collapsed_sections": []
    },
    "kernelspec": {
      "name": "python3",
      "display_name": "Python 3"
    }
  },
  "cells": [
    {
      "cell_type": "markdown",
      "metadata": {
        "id": "CKRKRCPwxZWI",
        "colab_type": "text"
      },
      "source": [
        "### 0. Print the phrase \"HELLO ANDY\".\n",
        "\n",
        "> Indented block\n",
        "\n"
      ]
    },
    {
      "cell_type": "code",
      "metadata": {
        "id": "EZ8lLJFHxYB7",
        "colab_type": "code",
        "outputId": "aa30f75e-d16e-4906-d4a0-b3fe371c3497",
        "colab": {
          "base_uri": "https://localhost:8080/",
          "height": 34
        }
      },
      "source": [
        "print(\"HELLO ANDY\")"
      ],
      "execution_count": 0,
      "outputs": [
        {
          "output_type": "stream",
          "text": [
            "HELLO BRANDON\n"
          ],
          "name": "stdout"
        }
      ]
    },
    {
      "cell_type": "markdown",
      "metadata": {
        "id": "BevFd93Vxv7m",
        "colab_type": "text"
      },
      "source": [
        "### 1. Create a list containing the numbers: 1, 5, 6, 7, 12, 3, 234, 0,2\n",
        "> 1.1 Use a for loop to print all of the numbers. <br>\n",
        "> 1.2 Use a while loop to print all of the numbers. <br>\n",
        "> 1.3 Find the minimum and maximum value programatically. <br>\n",
        "> 1.4 Multiply each index by 10\n",
        "\n"
      ]
    },
    {
      "cell_type": "code",
      "metadata": {
        "id": "zwrN6Z9QyF0z",
        "colab_type": "code",
        "outputId": "f111464c-b522-4b8b-d8ea-c42fbc349211",
        "colab": {
          "base_uri": "https://localhost:8080/",
          "height": 357
        }
      },
      "source": [
        "numbers = [1, 5, 6, 7, 12, 3, 234, 0, 2]\n",
        "i = 0\n",
        "for number in numbers:\n",
        "  numbers[i] = number * 10\n",
        "  i += 1\n",
        "  \n",
        "for number in numbers:\n",
        "  print(number)\n",
        "\n",
        "i = 0\n",
        "while i < len(numbers):\n",
        "  print(numbers[i])\n",
        "  i += 1\n",
        "\n",
        "min_value = min(numbers)\n",
        "print(min_value)\n",
        "max_value = max(numbers)\n",
        "print(max_value)"
      ],
      "execution_count": 0,
      "outputs": [
        {
          "output_type": "stream",
          "text": [
            "10\n",
            "50\n",
            "60\n",
            "70\n",
            "120\n",
            "30\n",
            "2340\n",
            "0\n",
            "20\n",
            "10\n",
            "50\n",
            "60\n",
            "70\n",
            "120\n",
            "30\n",
            "2340\n",
            "0\n",
            "20\n",
            "0\n",
            "2340\n"
          ],
          "name": "stdout"
        }
      ]
    },
    {
      "cell_type": "markdown",
      "metadata": {
        "id": "-tKpinImyHV1",
        "colab_type": "text"
      },
      "source": [
        "### 2. Create a dictionary containing the following key, value pairs: <br> <'fred': 1>,  <\"jeff\":15>, <\"ken\":12>, <\"sam\":23>, <\"gwen\":21>, <\"tori\":20><br>\n",
        "(The keys are the person's name, and the value is their age)\n",
        "> 1.1 Print all of the people and their age. <br>\n",
        "> 1.2 Find the youngest and oldest person programatically. <br>\n",
        "> 1.3 Find all of the people that are older than 18\n"
      ]
    },
    {
      "cell_type": "code",
      "metadata": {
        "id": "tFUEpgG5nfDu",
        "colab_type": "code",
        "outputId": "0b32109f-de7d-4fc6-ec6a-d2d68c11185c",
        "colab": {
          "base_uri": "https://localhost:8080/",
          "height": 204
        }
      },
      "source": [
        "ages = {'fred': 1, 'jeff': 15, 'ken': 12, 'sam': 23, 'gwen': 21, 'tori': 20}\n",
        "max_value = 0\n",
        "min_value = 100\n",
        "for key, value in ages.items():\n",
        "  print(key, \"is\", value, \"years old\")\n",
        "  if value > max_value:\n",
        "    max_value = value\n",
        "    max_key = key\n",
        "  if value < min_value:\n",
        "    min_value = value\n",
        "    min_key = key\n",
        "  if value > 18:\n",
        "    print(key, \"is over 18 years old\")\n",
        "print(\"The youngest person is\", min_key)\n",
        "print(\"The oldest person is\", max_key)"
      ],
      "execution_count": 0,
      "outputs": [
        {
          "output_type": "stream",
          "text": [
            "fred is 1 years old\n",
            "jeff is 15 years old\n",
            "ken is 12 years old\n",
            "sam is 23 years old\n",
            "sam is over 18 years old\n",
            "gwen is 21 years old\n",
            "gwen is over 18 years old\n",
            "tori is 20 years old\n",
            "tori is over 18 years old\n",
            "The youngest person is fred\n",
            "The oldest person is sam\n"
          ],
          "name": "stdout"
        }
      ]
    },
    {
      "cell_type": "code",
      "metadata": {
        "id": "dTQFbr45iuM_",
        "colab_type": "code",
        "outputId": "afec411b-b5ae-4fa6-cf86-b00781d73b4a",
        "colab": {
          "base_uri": "https://localhost:8080/",
          "height": 85
        }
      },
      "source": [
        "import random\n",
        "big_list = []\n",
        "list1 = [random.randint(1,9), random.randint(1,9), random.randint(1,9)]\n",
        "list2 = [random.randint(1,9), random.randint(1,9), random.randint(1,9)]\n",
        "list3 = [random.randint(1,9), random.randint(1,9), random.randint(1,9)]\n",
        "i = 0\n",
        "for number in list1:\n",
        "  list1[i] = number ** 2\n",
        "  list1[i] = str(list1[i])\n",
        "  i += 1\n",
        "i = 0\n",
        "for number in list2:\n",
        "  list2[i] = number ** 2\n",
        "  list2[i] = str(list2[i])\n",
        "  i += 1\n",
        "i = 0\n",
        "for number in list3:\n",
        "  list3[i] = number ** 2\n",
        "  list3[i] = str(list3[i])\n",
        "  i += 1\n",
        "big_list.append(list1)\n",
        "big_list.append(list2)\n",
        "big_list.append(list3)\n",
        "print(' '.join(list1))\n",
        "print(' '.join(list2))\n",
        "print(' '.join(list3))\n",
        "big_list2 = []\n",
        "for number in list1:\n",
        "  big_list2.append(number)\n",
        "for number in list2:\n",
        "  big_list2.append(number)\n",
        "for number in list3:\n",
        "  big_list2.append(number)\n",
        "max_value = max(big_list2)\n",
        "print(max_value)"
      ],
      "execution_count": 0,
      "outputs": [
        {
          "output_type": "stream",
          "text": [
            "9 4 16\n",
            "49 1 81\n",
            "4 1 9\n",
            "9\n"
          ],
          "name": "stdout"
        }
      ]
    },
    {
      "cell_type": "markdown",
      "metadata": {
        "id": "l23KY6aH55Ld",
        "colab_type": "text"
      },
      "source": [
        "### 3. Create a 3x3 2D array of numbers between 1-9  (Selected at random).\n",
        "> 3.1 print all the numbers in this array.\n",
        "> 3.2 calculate the max value of this array.\n",
        "> 3.3 Square the values of all the indices"
      ]
    },
    {
      "cell_type": "markdown",
      "metadata": {
        "id": "KrdV4OxF0wF-",
        "colab_type": "text"
      },
      "source": [
        "### BONUS: Use RECURSION to calculate the sum the list in problem 1.\n",
        "\n"
      ]
    },
    {
      "cell_type": "code",
      "metadata": {
        "id": "Qy7tX2As4dh2",
        "colab_type": "code",
        "colab": {}
      },
      "source": [
        "def sum(l):\n",
        "  if len(l) == 1:\n",
        "    return l[0]\n",
        "  else:\n",
        "    return l[0] + sum(l[1:])"
      ],
      "execution_count": 0,
      "outputs": []
    }
  ]
}